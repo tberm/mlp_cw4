{
 "cells": [
  {
   "cell_type": "code",
   "execution_count": 1,
   "id": "0a18a8be-768a-4a33-92f8-3da44339a540",
   "metadata": {},
   "outputs": [],
   "source": [
    "%load_ext autoreload\n",
    "%autoreload 2"
   ]
  },
  {
   "cell_type": "markdown",
   "id": "819f8bf5-8e00-4acb-a87a-540782e65f48",
   "metadata": {},
   "source": [
    "#### First try using their pipeline\n",
    "That means feeding the model text input and then they feed it through the language model and get embeddings"
   ]
  },
  {
   "cell_type": "code",
   "execution_count": 2,
   "id": "72f0cb17-4d0e-4f6d-8d97-ec0c4af526d1",
   "metadata": {},
   "outputs": [],
   "source": [
    "from repe import repe_pipeline_registry\n",
    "from transformers import pipeline\n",
    "repe_pipeline_registry()"
   ]
  },
  {
   "cell_type": "code",
   "execution_count": 3,
   "id": "3850914e-b75f-4241-bed0-32741ec4528d",
   "metadata": {},
   "outputs": [
    {
     "name": "stderr",
     "output_type": "stream",
     "text": [
      "Special tokens have been added in the vocabulary, make sure the associated word embeddings are fine-tuned or trained.\n"
     ]
    }
   ],
   "source": [
    "from transformers import GPTNeoXForCausalLM, AutoTokenizer\n",
    "\n",
    "model = GPTNeoXForCausalLM.from_pretrained(\n",
    "  \"EleutherAI/pythia-70m\",\n",
    "  cache_dir=\"./pythia-70m/main\",\n",
    ")\n",
    "\n",
    "tokenizer = AutoTokenizer.from_pretrained(\n",
    "  \"EleutherAI/pythia-70m\",\n",
    "  cache_dir=\"./pythia-70m/main\",\n",
    ")"
   ]
  },
  {
   "cell_type": "code",
   "execution_count": 4,
   "id": "dd1dc768-0f43-47be-88f1-50782c89e274",
   "metadata": {},
   "outputs": [],
   "source": [
    "rep_reading_pipeline =  pipeline(\"rep-reading\", model=model, tokenizer=tokenizer)"
   ]
  },
  {
   "cell_type": "code",
   "execution_count": 75,
   "id": "e88e5c01-506f-4723-a381-802e0abd6aea",
   "metadata": {},
   "outputs": [],
   "source": [
    "import pandas as pd\n",
    "import numpy as np\n",
    "import matplotlib.pyplot as plt"
   ]
  },
  {
   "cell_type": "code",
   "execution_count": 76,
   "id": "b20fafa9-2297-40da-a942-3046a61b456a",
   "metadata": {},
   "outputs": [],
   "source": [
    "numbers = pd.read_csv('../mixed_true_false_data/train/numbers.csv')"
   ]
  },
  {
   "cell_type": "code",
   "execution_count": 77,
   "id": "cc21f538-33ec-4956-8c8b-4b78a3f207b0",
   "metadata": {},
   "outputs": [],
   "source": [
    "# need an even number of inputs!\n",
    "# num_examples = len(numbers) - (numbers % 2)\n",
    "num_examples = 50\n",
    "inputs = numbers.iloc[:num_examples].statement.tolist()\n",
    "labels = numbers.iloc[:num_examples].label.tolist()"
   ]
  },
  {
   "cell_type": "code",
   "execution_count": 78,
   "id": "9f8c0764-4ef9-42d2-b2c4-ae31b14c097a",
   "metadata": {},
   "outputs": [],
   "source": [
    "# seems that if you are passing training labels then it's not able to create the example pairs itself\n",
    "# so try giving everything already paired\n",
    "true_inputs = numbers[numbers.label == 1].iloc[:num_examples].statement.tolist()\n",
    "false_inputs = numbers[numbers.label == 0].iloc[:num_examples].statement.tolist()\n",
    "paired_inputs = list(zip(true_inputs, false_inputs))\n",
    "paired_labels = [[1, 0]] * len(paired_inputs)"
   ]
  },
  {
   "cell_type": "code",
   "execution_count": 79,
   "id": "a238e3c3-e737-446a-8667-fda52c2cbb5e",
   "metadata": {},
   "outputs": [],
   "source": [
    "tokenizer.pad_token = tokenizer.eos_token"
   ]
  },
  {
   "cell_type": "code",
   "execution_count": 80,
   "id": "a8cc68d0-cf6d-4737-a5d8-7988ddcc3998",
   "metadata": {},
   "outputs": [],
   "source": [
    "finder = rep_reading_pipeline.get_directions(\n",
    "    paired_inputs,\n",
    "    batch_size=1,\n",
    "    train_labels=paired_labels,\n",
    "    padding=True,\n",
    ")"
   ]
  },
  {
   "cell_type": "code",
   "execution_count": 81,
   "id": "36778ee4-1a36-4a9a-8eba-e22887c42cd8",
   "metadata": {},
   "outputs": [],
   "source": [
    "results = rep_reading_pipeline(\n",
    "    inputs,\n",
    "    rep_reader=finder,\n",
    "    batch_size=1,\n",
    ")"
   ]
  },
  {
   "cell_type": "code",
   "execution_count": 82,
   "id": "956d1be1-5539-4ce4-bc92-347318533cf0",
   "metadata": {},
   "outputs": [],
   "source": [
    "labels_arr = np.array(labels)\n",
    "results_arr = np.array(list(d[-1].item() for d in results))\n",
    "true_scores = results_arr[labels_arr]\n",
    "false_scores = results_arr[~labels_arr]"
   ]
  },
  {
   "cell_type": "code",
   "execution_count": 83,
   "id": "e5e02e0b-73c8-4d4a-bf7e-05a2b84b8bb4",
   "metadata": {},
   "outputs": [
    {
     "data": {
      "text/plain": [
       "(array([26.,  0.,  0.,  0.,  0.,  0.,  0.,  0.,  0., 24.]),\n",
       " array([30.26219177, 30.62154465, 30.98089752, 31.3402504 , 31.69960327,\n",
       "        32.05895615, 32.41830902, 32.7776619 , 33.13701477, 33.49636765,\n",
       "        33.85572052]),\n",
       " <BarContainer object of 10 artists>)"
      ]
     },
     "execution_count": 83,
     "metadata": {},
     "output_type": "execute_result"
    },
    {
     "data": {
      "image/png": "[encoded data removed]",
      "text/plain": [
       "<Figure size 640x480 with 1 Axes>"
      ]
     },
     "metadata": {},
     "output_type": "display_data"
    }
   ],
   "source": [
    "fig, ax = plt.subplots()\n",
    "ax.hist(true_scores)\n",
    "ax.hist(false_scores)"
   ]
  },
  {
   "cell_type": "code",
   "execution_count": 84,
   "id": "12a48e73-4643-42e2-a8dd-4599b6fcf4fe",
   "metadata": {},
   "outputs": [
    {
     "data": {
      "text/plain": [
       "({33.363075256347656, 35.99592590332031},\n",
       " {30.262191772460938, 33.85572052001953})"
      ]
     },
     "execution_count": 84,
     "metadata": {},
     "output_type": "execute_result"
    }
   ],
   "source": [
    "# wtf??? why are there only three possible scores\n",
    "set(true_scores), set(false_scores)"
   ]
  },
  {
   "cell_type": "markdown",
   "id": "00f91c3e-d107-4b33-aea4-c09b7538b40a",
   "metadata": {},
   "source": [
    "### Try with pre-calculated Llama embeddings\n",
    "\n",
    "So need to use the underlying PCARepReader rather than the pipeline"
   ]
  },
  {
   "cell_type": "code",
   "execution_count": 19,
   "id": "ece92c7b-b0ec-4b8c-b5e9-5c7562a356fe",
   "metadata": {},
   "outputs": [],
   "source": [
    "from repe.rep_readers import PCARepReader\n",
    "from ast import literal_eval"
   ]
  },
  {
   "cell_type": "code",
   "execution_count": 16,
   "id": "9de4a870-a182-4398-a3f9-ab67115bef67",
   "metadata": {},
   "outputs": [
    {
     "data": {
      "text/html": [
       "<div>\n",
       "<style scoped>\n",
       "    .dataframe tbody tr th:only-of-type {\n",
       "        vertical-align: middle;\n",
       "    }\n",
       "\n",
       "    .dataframe tbody tr th {\n",
       "        vertical-align: top;\n",
       "    }\n",
       "\n",
       "    .dataframe thead th {\n",
       "        text-align: right;\n",
       "    }\n",
       "</style>\n",
       "<table border=\"1\" class=\"dataframe\">\n",
       "  <thead>\n",
       "    <tr style=\"text-align: right;\">\n",
       "      <th></th>\n",
       "      <th>Unnamed: 0.1</th>\n",
       "      <th>Unnamed: 0</th>\n",
       "      <th>original_idx</th>\n",
       "      <th>statement</th>\n",
       "      <th>label</th>\n",
       "      <th>n1</th>\n",
       "      <th>n2</th>\n",
       "      <th>diff</th>\n",
       "      <th>abs_diff</th>\n",
       "      <th>embeddings</th>\n",
       "    </tr>\n",
       "  </thead>\n",
       "  <tbody>\n",
       "    <tr>\n",
       "      <th>0</th>\n",
       "      <td>692</td>\n",
       "      <td>784</td>\n",
       "      <td>1084</td>\n",
       "      <td>Seventy-seven is smaller than eighty-three.</td>\n",
       "      <td>1</td>\n",
       "      <td>77</td>\n",
       "      <td>83</td>\n",
       "      <td>-6</td>\n",
       "      <td>6</td>\n",
       "      <td>[-2.427211046218872, 0.45658180117607117, 0.39...</td>\n",
       "    </tr>\n",
       "    <tr>\n",
       "      <th>1</th>\n",
       "      <td>443</td>\n",
       "      <td>780</td>\n",
       "      <td>1080</td>\n",
       "      <td>Seventy-seven is larger than seventy-eight.</td>\n",
       "      <td>0</td>\n",
       "      <td>77</td>\n",
       "      <td>78</td>\n",
       "      <td>-1</td>\n",
       "      <td>1</td>\n",
       "      <td>[-2.0737123489379883, 0.43445533514022827, 0.1...</td>\n",
       "    </tr>\n",
       "    <tr>\n",
       "      <th>2</th>\n",
       "      <td>783</td>\n",
       "      <td>156</td>\n",
       "      <td>795</td>\n",
       "      <td>Seventy-one is smaller than fifty-four.</td>\n",
       "      <td>0</td>\n",
       "      <td>71</td>\n",
       "      <td>54</td>\n",
       "      <td>17</td>\n",
       "      <td>17</td>\n",
       "      <td>[-2.027088165283203, 0.28480812907218933, 0.21...</td>\n",
       "    </tr>\n",
       "    <tr>\n",
       "      <th>3</th>\n",
       "      <td>432</td>\n",
       "      <td>736</td>\n",
       "      <td>967</td>\n",
       "      <td>Seventy-four is larger than ninety-nine.</td>\n",
       "      <td>0</td>\n",
       "      <td>74</td>\n",
       "      <td>99</td>\n",
       "      <td>-25</td>\n",
       "      <td>25</td>\n",
       "      <td>[-2.416747570037842, 0.6019255518913269, 0.099...</td>\n",
       "    </tr>\n",
       "    <tr>\n",
       "      <th>4</th>\n",
       "      <td>200</td>\n",
       "      <td>800</td>\n",
       "      <td>1780</td>\n",
       "      <td>Ninety-five is larger than seventy-three.</td>\n",
       "      <td>1</td>\n",
       "      <td>95</td>\n",
       "      <td>73</td>\n",
       "      <td>22</td>\n",
       "      <td>22</td>\n",
       "      <td>[-2.3882596492767334, 0.26912882924079895, 0.2...</td>\n",
       "    </tr>\n",
       "    <tr>\n",
       "      <th>...</th>\n",
       "      <td>...</td>\n",
       "      <td>...</td>\n",
       "      <td>...</td>\n",
       "      <td>...</td>\n",
       "      <td>...</td>\n",
       "      <td>...</td>\n",
       "      <td>...</td>\n",
       "      <td>...</td>\n",
       "      <td>...</td>\n",
       "      <td>...</td>\n",
       "    </tr>\n",
       "    <tr>\n",
       "      <th>838</th>\n",
       "      <td>928</td>\n",
       "      <td>736</td>\n",
       "      <td>1705</td>\n",
       "      <td>Ninety-three is smaller than eighty-seven.</td>\n",
       "      <td>0</td>\n",
       "      <td>93</td>\n",
       "      <td>87</td>\n",
       "      <td>6</td>\n",
       "      <td>6</td>\n",
       "      <td>[-2.4358463287353516, 0.3964245319366455, 0.30...</td>\n",
       "    </tr>\n",
       "    <tr>\n",
       "      <th>839</th>\n",
       "      <td>12</td>\n",
       "      <td>48</td>\n",
       "      <td>443</td>\n",
       "      <td>Sixty-two is larger than fifty-four.</td>\n",
       "      <td>1</td>\n",
       "      <td>62</td>\n",
       "      <td>54</td>\n",
       "      <td>8</td>\n",
       "      <td>8</td>\n",
       "      <td>[-1.9348537921905518, 0.33280178904533386, 0.2...</td>\n",
       "    </tr>\n",
       "    <tr>\n",
       "      <th>840</th>\n",
       "      <td>706</td>\n",
       "      <td>840</td>\n",
       "      <td>1218</td>\n",
       "      <td>Eighty-one is smaller than eighty-five.</td>\n",
       "      <td>1</td>\n",
       "      <td>81</td>\n",
       "      <td>85</td>\n",
       "      <td>-4</td>\n",
       "      <td>4</td>\n",
       "      <td>[-2.1126511096954346, 0.3045756220817566, 0.05...</td>\n",
       "    </tr>\n",
       "    <tr>\n",
       "      <th>841</th>\n",
       "      <td>319</td>\n",
       "      <td>284</td>\n",
       "      <td>305</td>\n",
       "      <td>Fifty-seven is larger than ninety-seven.</td>\n",
       "      <td>0</td>\n",
       "      <td>57</td>\n",
       "      <td>97</td>\n",
       "      <td>-40</td>\n",
       "      <td>40</td>\n",
       "      <td>[-2.381692886352539, 0.3664587438106537, 0.502...</td>\n",
       "    </tr>\n",
       "    <tr>\n",
       "      <th>842</th>\n",
       "      <td>602</td>\n",
       "      <td>424</td>\n",
       "      <td>479</td>\n",
       "      <td>Sixty-two is smaller than ninety-five.</td>\n",
       "      <td>1</td>\n",
       "      <td>62</td>\n",
       "      <td>95</td>\n",
       "      <td>-33</td>\n",
       "      <td>33</td>\n",
       "      <td>[-2.1940391063690186, 0.33417338132858276, 0.2...</td>\n",
       "    </tr>\n",
       "  </tbody>\n",
       "</table>\n",
       "<p>843 rows × 10 columns</p>\n",
       "</div>"
      ],
      "text/plain": [
       "     Unnamed: 0.1  Unnamed: 0  original_idx  \\\n",
       "0             692         784          1084   \n",
       "1             443         780          1080   \n",
       "2             783         156           795   \n",
       "3             432         736           967   \n",
       "4             200         800          1780   \n",
       "..            ...         ...           ...   \n",
       "838           928         736          1705   \n",
       "839            12          48           443   \n",
       "840           706         840          1218   \n",
       "841           319         284           305   \n",
       "842           602         424           479   \n",
       "\n",
       "                                       statement  label  n1  n2  diff  \\\n",
       "0    Seventy-seven is smaller than eighty-three.      1  77  83    -6   \n",
       "1    Seventy-seven is larger than seventy-eight.      0  77  78    -1   \n",
       "2        Seventy-one is smaller than fifty-four.      0  71  54    17   \n",
       "3       Seventy-four is larger than ninety-nine.      0  74  99   -25   \n",
       "4      Ninety-five is larger than seventy-three.      1  95  73    22   \n",
       "..                                           ...    ...  ..  ..   ...   \n",
       "838   Ninety-three is smaller than eighty-seven.      0  93  87     6   \n",
       "839         Sixty-two is larger than fifty-four.      1  62  54     8   \n",
       "840      Eighty-one is smaller than eighty-five.      1  81  85    -4   \n",
       "841     Fifty-seven is larger than ninety-seven.      0  57  97   -40   \n",
       "842       Sixty-two is smaller than ninety-five.      1  62  95   -33   \n",
       "\n",
       "     abs_diff                                         embeddings  \n",
       "0           6  [-2.427211046218872, 0.45658180117607117, 0.39...  \n",
       "1           1  [-2.0737123489379883, 0.43445533514022827, 0.1...  \n",
       "2          17  [-2.027088165283203, 0.28480812907218933, 0.21...  \n",
       "3          25  [-2.416747570037842, 0.6019255518913269, 0.099...  \n",
       "4          22  [-2.3882596492767334, 0.26912882924079895, 0.2...  \n",
       "..        ...                                                ...  \n",
       "838         6  [-2.4358463287353516, 0.3964245319366455, 0.30...  \n",
       "839         8  [-1.9348537921905518, 0.33280178904533386, 0.2...  \n",
       "840         4  [-2.1126511096954346, 0.3045756220817566, 0.05...  \n",
       "841        40  [-2.381692886352539, 0.3664587438106537, 0.502...  \n",
       "842        33  [-2.1940391063690186, 0.33417338132858276, 0.2...  \n",
       "\n",
       "[843 rows x 10 columns]"
      ]
     },
     "execution_count": 16,
     "metadata": {},
     "output_type": "execute_result"
    }
   ],
   "source": [
    "number_embs = pd.read_csv('../llama-true-false-results/train/embeddings_numbers7B_-5.csv')\n",
    "number_embs"
   ]
  },
  {
   "cell_type": "code",
   "execution_count": 65,
   "id": "89e481e7-2f03-4fb6-8c56-49ef29861997",
   "metadata": {},
   "outputs": [],
   "source": [
    "true_embs = np.array(number_embs[number_embs.label == 1].iloc[:num_examples].embeddings.apply(literal_eval).tolist())\n",
    "false_embs = np.array(number_embs[number_embs.label == 0].iloc[:num_examples].embeddings.apply(literal_eval).tolist())\n",
    "emb_diffs = np.array([t_emb - f_emb for t_emb, f_emb in zip(true_embs, false_embs)])\n",
    "all_embs = np.concatenate([true_embs, false_embs], axis=0)\n",
    "all_embs_labels = [1] * len(true_embs) + [0] * len(false_embs)"
   ]
  },
  {
   "cell_type": "code",
   "execution_count": 66,
   "id": "b6df229d-6fde-4f21-b9ca-22657924caf0",
   "metadata": {},
   "outputs": [
    {
     "data": {
      "text/plain": [
       "(100, 4096)"
      ]
     },
     "execution_count": 66,
     "metadata": {},
     "output_type": "execute_result"
    }
   ],
   "source": [
    "all_embs.shape"
   ]
  },
  {
   "cell_type": "code",
   "execution_count": 53,
   "id": "2631aceb-1d70-47b1-8ae0-e640cd580992",
   "metadata": {},
   "outputs": [
    {
     "data": {
      "text/plain": [
       "(50, 2, 4096)"
      ]
     },
     "execution_count": 53,
     "metadata": {},
     "output_type": "execute_result"
    }
   ],
   "source": [
    "np.array(list(zip(true_embs, false_embs))).shape"
   ]
  },
  {
   "cell_type": "code",
   "execution_count": 67,
   "id": "563608cb-ac4d-450f-bc10-04a713cd7101",
   "metadata": {},
   "outputs": [],
   "source": [
    "reader = PCARepReader(1)\n",
    "# hidden_states needs to be indexed by layer\n",
    "layer = -5\n",
    "hidden_states = {layer: emb_diffs}\n",
    "# receives model and tokenizer but doesn't use them?...\n",
    "reader.directions = reader.get_rep_directions(None, None, hidden_states, hidden_layers=[layer])\n",
    "# they do this in their pipeline for some reason\n",
    "directions[layer] = directions[layer].astype(np.float32)\n",
    "\n",
    "# seems that the hidden layers need to be a flat list while the labels need to be in pairs but in the same order? maybe??...\n",
    "alternating_hs = np.array(list(zip(true_embs, false_embs))).reshape(num_examples*2, -1)\n",
    "paired_labels = [[1, 0]] * (len(alternating_hs) // 2)\n",
    "reader.direction_signs = reader.get_signs({layer: alternating_hs}, paired_labels, [layer])"
   ]
  },
  {
   "cell_type": "code",
   "execution_count": 72,
   "id": "3af826f3-f6e1-4540-acb4-5cd694c4a795",
   "metadata": {},
   "outputs": [],
   "source": [
    "scores = reader.transform({layer: all_embs}, [layer], component_index=0)\n",
    "scores = scores[layer]\n",
    "true_scores = scores[:len(true_embs)]\n",
    "false_scores = scores[len(true_embs):]"
   ]
  },
  {
   "cell_type": "code",
   "execution_count": 73,
   "id": "3789ba2c-511a-4f9a-808e-7c59d49518c9",
   "metadata": {},
   "outputs": [
    {
     "data": {
      "text/plain": [
       "(array([3., 4., 5., 6., 3., 9., 5., 6., 2., 7.]),\n",
       " array([2194.14847237, 2201.48465268, 2208.82083299, 2216.1570133 ,\n",
       "        2223.49319361, 2230.82937391, 2238.16555422, 2245.50173453,\n",
       "        2252.83791484, 2260.17409515, 2267.51027546]),\n",
       " <BarContainer object of 10 artists>)"
      ]
     },
     "execution_count": 73,
     "metadata": {},
     "output_type": "execute_result"
    },
    {
     "data": {
      "image/png": "[encoded data removed]",
      "text/plain": [
       "<Figure size 640x480 with 1 Axes>"
      ]
     },
     "metadata": {},
     "output_type": "display_data"
    }
   ],
   "source": [
    "fig, ax = plt.subplots()\n",
    "ax.hist(true_scores)\n",
    "ax.hist(false_scores)"
   ]
  },
  {
   "cell_type": "code",
   "execution_count": 74,
   "id": "19cf3142-f60c-4781-9c07-8a69299f97f7",
   "metadata": {},
   "outputs": [
    {
     "data": {
      "text/plain": [
       "(2231.9506319964353, 2232.789570210858)"
      ]
     },
     "execution_count": 74,
     "metadata": {},
     "output_type": "execute_result"
    }
   ],
   "source": [
    "true_scores.mean(), false_scores.mean()"
   ]
  }
 ],
 "metadata": {
  "kernelspec": {
   "display_name": "Python 3 (ipykernel)",
   "language": "python",
   "name": "python3"
  },
  "language_info": {
   "codemirror_mode": {
    "name": "ipython",
    "version": 3
   },
   "file_extension": ".py",
   "mimetype": "text/x-python",
   "name": "python",
   "nbconvert_exporter": "python",
   "pygments_lexer": "ipython3",
   "version": "3.11.7"
  }
 },
 "nbformat": 4,
 "nbformat_minor": 5
}

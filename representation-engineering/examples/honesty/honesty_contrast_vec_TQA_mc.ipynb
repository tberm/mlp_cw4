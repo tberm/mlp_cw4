{
 "cells": [
  {
   "cell_type": "code",
   "execution_count": 2,
   "id": "a99cb9b4",
   "metadata": {},
   "outputs": [],
   "source": [
    "%load_ext autoreload\n",
    "%autoreload 2"
   ]
  },
  {
   "cell_type": "code",
   "execution_count": 3,
   "id": "7d78bb45",
   "metadata": {
    "scrolled": true
   },
   "outputs": [],
   "source": [
    "from transformers import AutoTokenizer, AutoConfig, pipeline\n",
    "import matplotlib.pyplot as plt\n",
    "import torch\n",
    "from tqdm import tqdm\n",
    "import numpy as np\n",
    "from datasets import load_dataset\n",
    "import torch.nn.functional as F\n",
    "import gc\n",
    "\n",
    "from repe.rep_control_contrast_vec import ContrastVecLlamaForCausalLM, ContrastVecMistralForCausalLM\n",
    "\n"
   ]
  },
  {
   "cell_type": "code",
   "execution_count": 4,
   "id": "53dc5615",
   "metadata": {},
   "outputs": [
    {
     "data": {
      "application/vnd.jupyter.widget-view+json": {
       "model_id": "8e96c585f6564839803c0ad45a329d1a",
       "version_major": 2,
       "version_minor": 0
      },
      "text/plain": [
       "Loading checkpoint shards:   0%|          | 0/2 [00:00<?, ?it/s]"
      ]
     },
     "metadata": {},
     "output_type": "display_data"
    }
   ],
   "source": [
    "# model_name_or_path = \"mistralai/Mistral-7B-Instruct-v0.2\"\n",
    "# model = CasadingMistralForCausalLM.from_pretrained(model_name_or_path, torch_dtype=torch.bfloat16, device_map=\"sequential\")\n",
    "\n",
    "model_name_or_path = \"meta-llama/Llama-2-7b-chat-hf\"\n",
    "model = ContrastVecLlamaForCausalLM.from_pretrained(model_name_or_path, torch_dtype=torch.bfloat16, device_map=\"sequential\")\n",
    "\n",
    "tokenizer = AutoTokenizer.from_pretrained(model_name_or_path, use_fast=False, padding_side=\"left\", legacy=False)\n",
    "tokenizer.pad_token_id = 0 "
   ]
  },
  {
   "cell_type": "code",
   "execution_count": 5,
   "id": "72417cf7",
   "metadata": {},
   "outputs": [],
   "source": [
    "# parameters\n",
    "batch_size = 64\n",
    "\n",
    "user_tag = \"[INST] \"\n",
    "assistant_tag = \"[/INST] \"\n",
    "\n",
    "experimental_prompt = 'Give a truthful answer. '\n",
    "reference_prompt = 'Give an untruthful answer. '"
   ]
  },
  {
   "cell_type": "code",
   "execution_count": 6,
   "id": "88c149ab",
   "metadata": {},
   "outputs": [],
   "source": [
    "def batchify(lst, batch_size):\n",
    "    \"\"\"Yield successive batch_size chunks from lst.\"\"\"\n",
    "    for i in range(0, len(lst), batch_size):\n",
    "        yield lst[i:i + batch_size]\n",
    "\n",
    "def load_tqa_sentences(user_tag, assistant_tag, preset=\"\"):\n",
    "    dataset = load_dataset('truthful_qa', 'multiple_choice')['validation']\n",
    "    questions, answers = [],[]\n",
    "    labels = []\n",
    "    for d in dataset:\n",
    "        q = d['question']\n",
    "        for i in range(len(d['mc1_targets']['labels'])):\n",
    "            a = d['mc1_targets']['choices'][i]\n",
    "            questions = [f'{user_tag}' + q + ' ' + preset] + questions\n",
    "            answers = [f'{assistant_tag}' + a] + answers\n",
    "        ls = d['mc1_targets']['labels']\n",
    "        ls.reverse()\n",
    "        labels.insert(0, ls)\n",
    "    return questions, answers, labels\n",
    "\n",
    "def get_logprobs(logits, input_ids, masks, **kwargs):\n",
    "    logprobs = F.log_softmax(logits, dim=-1)[:, :-1]\n",
    "    # find the logprob of the input ids that actually come next in the sentence\n",
    "    logprobs = torch.gather(logprobs, -1, input_ids[:, 1:, None])\n",
    "    logprobs = logprobs * masks[:, 1:, None] \n",
    "    return logprobs.squeeze(-1)\n",
    "    \n",
    "def prepare_decoder_only_inputs(prompts, targets, tokenizer, device):\n",
    "    tokenizer.padding_side = \"left\"\n",
    "    prompt_inputs = tokenizer(prompts, return_tensors=\"pt\", padding=True, truncation=False)\n",
    "    tokenizer.padding_side = \"right\"\n",
    "    target_inputs = tokenizer(targets, return_tensors=\"pt\", padding=True, truncation=False, add_special_tokens=False)\n",
    "\n",
    "    # concatenate prompt and target tokens and send to device\n",
    "    inputs = {k: torch.cat([prompt_inputs[k], target_inputs[k]], dim=1).to(device) for k in prompt_inputs}\n",
    "\n",
    "    # mask is zero for padding tokens\n",
    "    mask = inputs[\"attention_mask\"].clone()\n",
    "    # set mask to 0 for question tokens\n",
    "    mask[:, :prompt_inputs[\"input_ids\"].shape[1]] = 0\n",
    "    mask.to(device)\n",
    "    # remove token_type_ids\n",
    "    if \"token_type_ids\" in inputs:\n",
    "        del inputs[\"token_type_ids\"]\n",
    "    \n",
    "    return inputs, mask, prompt_inputs[\"input_ids\"].shape[1]\n",
    "\n",
    "def calc_acc(labels, output_logprobs):\n",
    "    # check if the max logprob corresponds to the correct answer\n",
    "    correct = np.zeros(len(labels))\n",
    "    # indices to index\n",
    "    indices = np.cumsum([len(l) for l in labels])\n",
    "    indices = np.insert(indices, 0, 0)\n",
    "    for i, label in enumerate(labels):\n",
    "        # check \n",
    "        log_probs = output_logprobs[indices[i]:indices[i+1]]\n",
    "        correct[i] = np.argmax(log_probs) == label.index(1)\n",
    "    return correct.mean()\n",
    "\n",
    "def get_tqa_accuracy(model, questions, answers, labels, tokenizer, batch_size=128):\n",
    "    gc.collect()\n",
    "    # get the log probabilities of each question answer pair\n",
    "    output_logprobs = []\n",
    "    for q_batch, a_batch in tqdm(zip(batchify(questions, batch_size), batchify(answers, batch_size)), total=len(questions)//batch_size):\n",
    "        # print(q_batch[0] + a_batch[0])\n",
    "        inputs, masks, _ = prepare_decoder_only_inputs(q_batch, a_batch, tokenizer, model.model.device)\n",
    "\n",
    "        with torch.no_grad():\n",
    "            try:\n",
    "                # set the masks so that we do not add to tokens of input sentences and padding tokens\n",
    "                model.set_masks(masks.unsqueeze(-1))\n",
    "            except:\n",
    "                pass\n",
    "\n",
    "            # calculate the probabilities for all tokens (all question answer pairs)\n",
    "            logits = model(**inputs).logits\n",
    "            # sum the probabilities for each question answer pair so that each pair has one probability\n",
    "            # mask is zero for question and padding tokens\n",
    "            logprobs = get_logprobs(logits, inputs['input_ids'], masks).sum(-1).detach().cpu().numpy()\n",
    "        output_logprobs.extend(logprobs)\n",
    "\n",
    "    return calc_acc(labels, output_logprobs)"
   ]
  },
  {
   "cell_type": "code",
   "execution_count": 7,
   "id": "c2acfe74",
   "metadata": {},
   "outputs": [
    {
     "data": {
      "application/vnd.jupyter.widget-view+json": {
       "model_id": "055323726f3e4f4b990d81bd863cac2b",
       "version_major": 2,
       "version_minor": 0
      },
      "text/plain": [
       "Downloading data:   0%|          | 0.00/271k [00:00<?, ?B/s]"
      ]
     },
     "metadata": {},
     "output_type": "display_data"
    },
    {
     "data": {
      "application/vnd.jupyter.widget-view+json": {
       "model_id": "a54e9388056d4283bfd36ee8f7b8beae",
       "version_major": 2,
       "version_minor": 0
      },
      "text/plain": [
       "Generating validation split:   0%|          | 0/817 [00:00<?, ? examples/s]"
      ]
     },
     "metadata": {},
     "output_type": "display_data"
    },
    {
     "name": "stdout",
     "output_type": "stream",
     "text": [
      "random_acc: 0.22605616877342702\n"
     ]
    }
   ],
   "source": [
    "questions, answers, labels = load_tqa_sentences(user_tag=\"\", assistant_tag=\"\", preset=\"\")\n",
    "\n",
    "correct = []\n",
    "for l in labels:\n",
    "    correct.append(1/len(l))\n",
    "random_acc = np.mean(correct)\n",
    "print(f\"random_acc: {random_acc}\")"
   ]
  },
  {
   "cell_type": "code",
   "execution_count": 8,
   "id": "f32161d7",
   "metadata": {
    "scrolled": true
   },
   "outputs": [
    {
     "name": "stderr",
     "output_type": "stream",
     "text": [
      "65it [00:21,  2.97it/s]                                                                                    "
     ]
    },
    {
     "name": "stdout",
     "output_type": "stream",
     "text": [
      "Standard Zero-Shot Accuracy: 0.31334149326805383\n"
     ]
    },
    {
     "name": "stderr",
     "output_type": "stream",
     "text": [
      "\n"
     ]
    }
   ],
   "source": [
    "batch_size = 64\n",
    "questions, answers, labels = load_tqa_sentences(user_tag=user_tag, assistant_tag=assistant_tag, preset=\"\")\n",
    "model_baseline_acc = get_tqa_accuracy(model, questions, answers, labels, tokenizer, batch_size=batch_size)\n",
    "print(f\"Standard Zero-Shot Accuracy: {model_baseline_acc}\")"
   ]
  },
  {
   "cell_type": "code",
   "execution_count": 9,
   "id": "87fad3a6",
   "metadata": {},
   "outputs": [
    {
     "name": "stderr",
     "output_type": "stream",
     "text": [
      "65it [00:23,  2.78it/s]                                                                                    "
     ]
    },
    {
     "name": "stdout",
     "output_type": "stream",
     "text": [
      "Zero-Shot Accuracy with Truthful Prompt: 0.31701346389228885\n"
     ]
    },
    {
     "name": "stderr",
     "output_type": "stream",
     "text": [
      "\n"
     ]
    }
   ],
   "source": [
    "# with truthful prompt\n",
    "questions, answers, labels = load_tqa_sentences(user_tag=user_tag, assistant_tag=assistant_tag, preset=experimental_prompt)\n",
    "model_baseline_preset_acc = get_tqa_accuracy(model, questions, answers, labels, tokenizer, batch_size=batch_size)\n",
    "print(f\"Zero-Shot Accuracy with Truthful Prompt: {model_baseline_preset_acc}\")"
   ]
  },
  {
   "cell_type": "markdown",
   "id": "96fd6fce",
   "metadata": {},
   "source": [
    "## Contrast Vector Control"
   ]
  },
  {
   "cell_type": "code",
   "execution_count": 12,
   "id": "e3119186-49f2-426e-9948-20c5e1a2da8f",
   "metadata": {},
   "outputs": [
    {
     "name": "stderr",
     "output_type": "stream",
     "text": [
      "33it [01:25,  2.58s/it]                                                                                    "
     ]
    },
    {
     "name": "stdout",
     "output_type": "stream",
     "text": [
      "model_sample_wise_aa_acc: 0.5006119951040392\n"
     ]
    },
    {
     "name": "stderr",
     "output_type": "stream",
     "text": [
      "\n"
     ]
    }
   ],
   "source": [
    "\n",
    "batch_size = 128\n",
    "layer_ids = np.arange(0, 32, 2).tolist()\n",
    "# layer_ids = np.arange(7, 31, 3).tolist()\n",
    "\n",
    "pos_type = 'Give a truthful answer. '\n",
    "neg_type = 'Give an untruthful answer. '\n",
    "questions, answers, labels = load_tqa_sentences(user_tag=user_tag, assistant_tag=assistant_tag, preset=\"\")\n",
    "\n",
    "output_logprobs = []\n",
    "for q_batch, a_batch in tqdm(zip(batchify(questions, batch_size), batchify(answers, batch_size)), total=len(questions)//batch_size):\n",
    "    gc.collect()\n",
    "    inputs, masks, orig_split = prepare_decoder_only_inputs(q_batch, a_batch, tokenizer, model.model.device)\n",
    "\n",
    "    directions = {}\n",
    "    for layer_id in layer_ids:\n",
    "        directions[layer_id] = 0\n",
    "\n",
    "    q_batch_pos = [q + pos_type for q in q_batch]\n",
    "    q_batch_neg = [q + neg_type for q in q_batch]\n",
    "    \n",
    "    inputs_pos_s, masks_pos_s, split_pos = prepare_decoder_only_inputs(q_batch_pos, a_batch, tokenizer, model.model.device)\n",
    "    inputs_neg_s, masks_neg_s, split_neg = prepare_decoder_only_inputs(q_batch_neg, a_batch, tokenizer, model.model.device)\n",
    "    split = inputs_neg_s['input_ids'].shape[1] - split_neg\n",
    "    # print(orig_split, split_neg, split_pos)\n",
    "    \n",
    "    with torch.no_grad():\n",
    "        logits = model(**inputs,\n",
    "                  pos_input_ids=inputs_pos_s['input_ids'],\n",
    "                  pos_attention_mask=inputs_pos_s['attention_mask'],\n",
    "                  neg_input_ids=inputs_neg_s['input_ids'],\n",
    "                  neg_attention_mask=inputs_neg_s['attention_mask'],\n",
    "                  contrast_tokens=-split, # last {split} tokens\n",
    "                  compute_contrast=True,\n",
    "                  alpha=0.25, # try 0.1+, maybe 0.1 for mistrals\n",
    "                  control_layer_ids=layer_ids,\n",
    "                  ).logits\n",
    "        logprobs = get_logprobs(logits, inputs['input_ids'], masks).sum(-1).detach().cpu().numpy()\n",
    "    output_logprobs.extend(logprobs)\n",
    "\n",
    "model_sample_wise_aa_acc = calc_acc(labels, output_logprobs)\n",
    "print(f\"model_sample_wise_aa_acc: {model_sample_wise_aa_acc}\")"
   ]
  },
  {
   "cell_type": "code",
   "execution_count": null,
   "id": "6b3079ab-dfc0-40eb-882c-f49d143b40df",
   "metadata": {},
   "outputs": [],
   "source": []
  }
 ],
 "metadata": {
  "kernelspec": {
   "display_name": "Python 3",
   "language": "python",
   "name": "python3"
  },
  "language_info": {
   "codemirror_mode": {
    "name": "ipython",
    "version": 3
   },
   "file_extension": ".py",
   "mimetype": "text/x-python",
   "name": "python",
   "nbconvert_exporter": "python",
   "pygments_lexer": "ipython3",
   "version": "3.10.9"
  }
 },
 "nbformat": 4,
 "nbformat_minor": 5
}
